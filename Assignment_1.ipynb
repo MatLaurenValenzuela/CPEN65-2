{
  "nbformat": 4,
  "nbformat_minor": 0,
  "metadata": {
    "colab": {
      "provenance": [],
      "authorship_tag": "ABX9TyN2kXCkguHuxZLG3ZhA1O2c",
      "include_colab_link": true
    },
    "kernelspec": {
      "name": "python3",
      "display_name": "Python 3"
    },
    "language_info": {
      "name": "python"
    }
  },
  "cells": [
    {
      "cell_type": "markdown",
      "metadata": {
        "id": "view-in-github",
        "colab_type": "text"
      },
      "source": [
        "<a href=\"https://colab.research.google.com/github/MatLaurenValenzuela/CPEN65-2/blob/main/Assignment_1.ipynb\" target=\"_parent\"><img src=\"https://colab.research.google.com/assets/colab-badge.svg\" alt=\"Open In Colab\"/></a>"
      ]
    },
    {
      "cell_type": "markdown",
      "source": [
        "#Area of a Circle"
      ],
      "metadata": {
        "id": "CQ3WRnv2i4MR"
      }
    },
    {
      "cell_type": "code",
      "source": [
        "import math\n",
        "\n",
        "class AreaRad():\n",
        "  def __init__(self, rad):\n",
        "    self._rad = rad\n",
        "  def area1(self):\n",
        "    return ((math.pi)*(self._rad)**2)\n",
        "\n",
        "class AreaDia():\n",
        "  def __init__(self, dia):\n",
        "    self._dia = dia\n",
        "  def area2(self):\n",
        "    return ((1/4)*(math.pi)*(self._dia)**2)\n",
        "\n",
        "Radius = int(input(\"Enter the given radius: \"))\n",
        "print('\\n')\n",
        "areaR = AreaRad(Radius)\n",
        "print(\"The Area of the Circle given the radius is:\", round(areaR.area1(),2), \" units \")\n",
        "print('\\n')\n",
        "Diameter = int(input(\"Enter the given diameter: \"))\n",
        "print('\\n')\n",
        "areaD = AreaDia(Diameter)\n",
        "print(\"The Area of the Circle given the diameter is :\", round(areaD.area2(),2), \" units \")\n",
        "\n",
        "\n",
        "\n"
      ],
      "metadata": {
        "colab": {
          "base_uri": "https://localhost:8080/"
        },
        "id": "dibukQogk3r1",
        "outputId": "2b7f405a-4ff0-4560-baa6-a4f1938e8813"
      },
      "execution_count": 33,
      "outputs": [
        {
          "output_type": "stream",
          "name": "stdout",
          "text": [
            "Enter the given radius: 25\n",
            "\n",
            "\n",
            "The Area of the Circle given the radius is: 1963.5  units \n",
            "\n",
            "\n",
            "Enter the given diameter: 50\n",
            "\n",
            "\n",
            "The Area of the Circle given the diameter is : 1963.5  units \n"
          ]
        }
      ]
    },
    {
      "cell_type": "code",
      "source": [
        "import math\n",
        "r = \"Radius\"\n",
        "d = \"Diameter\"\n",
        "value = input(\"Is the given value a radius or diameter? :\").capitalize()\n",
        "\n",
        "class AreaRad():\n",
        "  def __init__(self, rad):\n",
        "    self._rad = rad\n",
        "  def area1(self):\n",
        "    return ((math.pi)*(self._rad)**2)\n",
        "\n",
        "class AreaDia():\n",
        "  def __init__(self, dia):\n",
        "    self._dia = dia\n",
        "  def area2(self):\n",
        "    return ((1/4)*(math.pi)*(self._dia)**2)\n",
        "\n",
        "if r == value:\n",
        "  print(\"You chose radius as the given.\")\n",
        "  Radius = int(input(\"Enter the given radius: \"))\n",
        "  print('\\n')\n",
        "  areaR = AreaRad(Radius)\n",
        "  print(\"The Area of the Circle given the radius is:\", round(areaR.area1(),2), \" square units \")\n",
        "  print('\\n')\n",
        "else:\n",
        "  if d == value:\n",
        "    Diameter = int(input(\"Enter the given diameter: \"))\n",
        "    print('\\n')\n",
        "    areaD = AreaDia(Diameter)\n",
        "    print(\"The Area of the Circle given the diameter is :\", round(areaD.area2(),2), \" square units \")\n",
        "  else:\n",
        "    if r != value:\n",
        "      print(\"ERROR\")\n",
        "    else:\n",
        "      if d != value:\n",
        "        print (\"Error\")\n",
        "    \n",
        "\n",
        "\n",
        "\n",
        "\n",
        "\n",
        "\n"
      ],
      "metadata": {
        "colab": {
          "base_uri": "https://localhost:8080/"
        },
        "id": "mEwitzVXDstV",
        "outputId": "f43cdf91-900f-4ccc-928f-ac69d7415dcd"
      },
      "execution_count": 32,
      "outputs": [
        {
          "output_type": "stream",
          "name": "stdout",
          "text": [
            "Is the given value a radius or diameter? :radius\n",
            "You chose radius as the given.\n",
            "Enter the given radius: 13\n",
            "\n",
            "\n",
            "The Area of the Circle given the radius is: 530.93  square units \n",
            "\n",
            "\n"
          ]
        }
      ]
    }
  ]
}