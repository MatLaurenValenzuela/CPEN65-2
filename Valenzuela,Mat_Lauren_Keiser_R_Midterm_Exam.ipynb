{
  "nbformat": 4,
  "nbformat_minor": 0,
  "metadata": {
    "colab": {
      "provenance": [],
      "authorship_tag": "ABX9TyM5ylLQyUcEzPkgBs7JTbGV",
      "include_colab_link": true
    },
    "kernelspec": {
      "name": "python3",
      "display_name": "Python 3"
    },
    "language_info": {
      "name": "python"
    }
  },
  "cells": [
    {
      "cell_type": "markdown",
      "metadata": {
        "id": "view-in-github",
        "colab_type": "text"
      },
      "source": [
        "<a href=\"https://colab.research.google.com/github/MatLaurenValenzuela/CPEN65-2/blob/main/Valenzuela%2CMat_Lauren_Keiser_R_Midterm_Exam.ipynb\" target=\"_parent\"><img src=\"https://colab.research.google.com/assets/colab-badge.svg\" alt=\"Open In Colab\"/></a>"
      ]
    },
    {
      "cell_type": "code",
      "execution_count": 14,
      "metadata": {
        "colab": {
          "base_uri": "https://localhost:8080/"
        },
        "id": "6CB0Jp7n-A02",
        "outputId": "7ec1c3bd-4c4c-4173-b4ce-cebbe0fc0f7d"
      },
      "outputs": [
        {
          "output_type": "stream",
          "name": "stdout",
          "text": [
            "The array with integers are: array('i', [1, 2, 3, 4, 5, 6, 7, 8, 9, 10])\n",
            "Enter the first index: 5\n",
            "Enter the second index: 9\n",
            "Enter the third index: 1\n",
            "The sum of the indexes selected is:  18\n"
          ]
        }
      ],
      "source": [
        "#1. Write a Python program to create an array of 10 integers and display the array items. Access individual elements through indexes and compute for the sum.\n",
        "\n",
        "import array as arr\n",
        "\n",
        "arr.typecodes\n",
        "\n",
        "arr_int = arr.array('i', [1,2,3,4,5,6,7,8,9,10])\n",
        "print(\"The array with integers are:\", arr_int)\n",
        "\n",
        "Fstval = input(\"Enter the first index: \")\n",
        "Sndval = input(\"Enter the second index: \")\n",
        "Trdval = input(\"Enter the third index: \")\n",
        "\n",
        "First_arr = int(Fstval)\n",
        "Second_arr = int(Sndval)\n",
        "Third_arr = int(Trdval)\n",
        "\n",
        "F_arr = arr_int[First_arr]\n",
        "S_arr = arr_int[Second_arr]\n",
        "T_arr = arr_int[Third_arr]\n",
        "\n",
        "sum = (F_arr + S_arr + T_arr)\n",
        "\n",
        "print(\"The sum of the indexes selected is: \", sum)\n",
        "\n",
        "\n",
        "\n",
        "\n"
      ]
    },
    {
      "cell_type": "code",
      "source": [
        "#2.\tWrite a Python program to append a new item to the end of the array. Original array: numbers = [1, 2, 3, 4, 5, 6, 7, 8, 9, 10]\n",
        "\n",
        "from array import *\n",
        "\n",
        "orig_array = [1, 2, 3, 4, 5, 6, 7, 8, 9, 10]\n",
        "print(\"The original array is: \", orig_array)\n",
        "\n",
        "app_val = int(input(\"Enter the value you want to append: \"))\n",
        "\n",
        "appended_val = orig_array.append(app_val)\n",
        "\n",
        "print(\"The appended array: \", orig_array)"
      ],
      "metadata": {
        "colab": {
          "base_uri": "https://localhost:8080/"
        },
        "id": "z9p87RLuL5F4",
        "outputId": "277496a4-71c4-4587-d349-a3de5fd87c44"
      },
      "execution_count": 18,
      "outputs": [
        {
          "output_type": "stream",
          "name": "stdout",
          "text": [
            "The original array is:  [1, 2, 3, 4, 5, 6, 7, 8, 9, 10]\n",
            "Enter the value you want to append: 11\n",
            "The appended array:  [1, 2, 3, 4, 5, 6, 7, 8, 9, 10, 11]\n"
          ]
        }
      ]
    },
    {
      "cell_type": "code",
      "source": [
        "#3. Write a Python program to insert a new item before the second element in an existing array. Original array: numbers = [1, 2, 3, 4, 5, 6, 7, 8, 9, 10]\n",
        "\n",
        "from array import *\n",
        "\n",
        "orig_array = [1, 2, 3, 4, 5, 6, 7, 8, 9, 10]\n",
        "print(\"The original array is: \", orig_array)  \n",
        "\n",
        "new_val = int(input(\"What value do you want to insert to the second element?: \"))\n",
        "\n",
        "ins_val = int(new_val)\n",
        "\n",
        "orig_array.insert(1, ins_val)\n",
        "\n",
        "print(\"The new array will be: \", orig_array)"
      ],
      "metadata": {
        "colab": {
          "base_uri": "https://localhost:8080/"
        },
        "id": "6Hc-SbaMTl6l",
        "outputId": "25da12f1-6a75-4854-c79f-b4103f3ae1a2"
      },
      "execution_count": 28,
      "outputs": [
        {
          "output_type": "stream",
          "name": "stdout",
          "text": [
            "The original array is:  [1, 2, 3, 4, 5, 6, 7, 8, 9, 10]\n",
            "What value do you want to insert to the second element?: 99\n",
            "The new array will be:  [1, 99, 2, 3, 4, 5, 6, 7, 8, 9, 10]\n"
          ]
        }
      ]
    },
    {
      "cell_type": "code",
      "source": [
        "#4.  Write a Python program to reverse the order of the items in the array. Original array: numbers = [5, 4, 3, 2, 1]\n",
        "\n",
        "from array import *\n",
        "\n",
        "numbers = [5, 4, 3, 2, 1]\n",
        "print(\"The Original array is: \", numbers)\n",
        "\n",
        "numbers.reverse()\n",
        "print(\"The Reversed array is: \", numbers)\n",
        "\n"
      ],
      "metadata": {
        "colab": {
          "base_uri": "https://localhost:8080/"
        },
        "id": "T3aHKMWSXkel",
        "outputId": "6aca087f-8dc6-496c-cbf2-ad4241532d81"
      },
      "execution_count": 30,
      "outputs": [
        {
          "output_type": "stream",
          "name": "stdout",
          "text": [
            "The Original array is:  [5, 4, 3, 2, 1]\n",
            "The Reversed array is:  [1, 2, 3, 4, 5]\n"
          ]
        }
      ]
    },
    {
      "cell_type": "code",
      "source": [
        "#5.  Write a Python program to get the length of the array. Original array: numbers = [5, 4, 3, 2, 1]\n",
        "\n",
        "numbers = [5, 4, 3, 2, 1]\n",
        "print(\"The Original array is: \", numbers)\n",
        "\n",
        "r = len(numbers)\n",
        "print(\"The length of the array is: \", r)"
      ],
      "metadata": {
        "colab": {
          "base_uri": "https://localhost:8080/"
        },
        "id": "wtE5eOHOaOr-",
        "outputId": "d700e380-d777-4b59-8769-374e7fc4e4c2"
      },
      "execution_count": 31,
      "outputs": [
        {
          "output_type": "stream",
          "name": "stdout",
          "text": [
            "The Original array is:  [5, 4, 3, 2, 1]\n",
            "The length of the array is:  5\n"
          ]
        }
      ]
    }
  ]
}