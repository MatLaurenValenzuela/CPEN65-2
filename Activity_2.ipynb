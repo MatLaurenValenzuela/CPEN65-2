{
  "nbformat": 4,
  "nbformat_minor": 0,
  "metadata": {
    "colab": {
      "provenance": [],
      "authorship_tag": "ABX9TyMOj0ttme8AHNCUMM/8+pJB",
      "include_colab_link": true
    },
    "kernelspec": {
      "name": "python3",
      "display_name": "Python 3"
    },
    "language_info": {
      "name": "python"
    }
  },
  "cells": [
    {
      "cell_type": "markdown",
      "metadata": {
        "id": "view-in-github",
        "colab_type": "text"
      },
      "source": [
        "<a href=\"https://colab.research.google.com/github/MatLaurenValenzuela/CPEN65-2/blob/main/Activity_2.ipynb\" target=\"_parent\"><img src=\"https://colab.research.google.com/assets/colab-badge.svg\" alt=\"Open In Colab\"/></a>"
      ]
    },
    {
      "cell_type": "code",
      "execution_count": 36,
      "metadata": {
        "colab": {
          "base_uri": "https://localhost:8080/"
        },
        "id": "jwr26J171rwQ",
        "outputId": "8c2efc9a-689a-4cb1-e392-1fdc77d3a67f"
      },
      "outputs": [
        {
          "output_type": "stream",
          "name": "stdout",
          "text": [
            "Enter your name here: Mat Lauren Keiser R. Valenzuela\n",
            "Your name in original order is:  ['M', 'a', 't', ' ', 'L', 'a', 'u', 'r', 'e', 'n', ' ', 'K', 'e', 'i', 's', 'e', 'r', ' ', 'R', '.', ' ', 'V', 'a', 'l', 'e', 'n', 'z', 'u', 'e', 'l', 'a']\n",
            "\n",
            "Your name in reversed order is:  ['a', 'l', 'e', 'u', 'z', 'n', 'e', 'l', 'a', 'V', ' ', '.', 'R', ' ', 'r', 'e', 's', 'i', 'e', 'K', ' ', 'n', 'e', 'r', 'u', 'a', 'L', ' ', 't', 'a', 'M']\n"
          ]
        }
      ],
      "source": [
        "nme = input(\"Enter your name here: \")\n",
        "x = list(nme)\n",
        "print(\"Your name in original order is: \", x)\n",
        "print()\n",
        "x.reverse()\n",
        "print(\"Your name in reversed order is: \", x)"
      ]
    }
  ]
}